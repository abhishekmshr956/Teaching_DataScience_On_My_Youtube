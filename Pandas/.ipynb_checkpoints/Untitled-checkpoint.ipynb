{
 "cells": [
  {
   "cell_type": "code",
   "execution_count": 20,
   "metadata": {},
   "outputs": [],
   "source": [
    "import pandas as pd\n",
    "batting = {'Rohit Sharma':['Not Out', 100], 'Virat Kohli':['Not Out', 150], 'Sachin Tendulkar':['Out', 100]}\n",
    "index = ['Dismissal', 'Runs']"
   ]
  },
  {
   "cell_type": "code",
   "execution_count": 21,
   "metadata": {},
   "outputs": [],
   "source": [
    "batting_df = pd.DataFrame(data = batting, index = index)"
   ]
  },
  {
   "cell_type": "code",
   "execution_count": 22,
   "metadata": {},
   "outputs": [
    {
     "data": {
      "text/html": [
       "<div>\n",
       "<style scoped>\n",
       "    .dataframe tbody tr th:only-of-type {\n",
       "        vertical-align: middle;\n",
       "    }\n",
       "\n",
       "    .dataframe tbody tr th {\n",
       "        vertical-align: top;\n",
       "    }\n",
       "\n",
       "    .dataframe thead th {\n",
       "        text-align: right;\n",
       "    }\n",
       "</style>\n",
       "<table border=\"1\" class=\"dataframe\">\n",
       "  <thead>\n",
       "    <tr style=\"text-align: right;\">\n",
       "      <th></th>\n",
       "      <th>Rohit Sharma</th>\n",
       "      <th>Virat Kohli</th>\n",
       "      <th>Sachin Tendulkar</th>\n",
       "    </tr>\n",
       "  </thead>\n",
       "  <tbody>\n",
       "    <tr>\n",
       "      <th>Dismissal</th>\n",
       "      <td>Not Out</td>\n",
       "      <td>Not Out</td>\n",
       "      <td>Out</td>\n",
       "    </tr>\n",
       "    <tr>\n",
       "      <th>Runs</th>\n",
       "      <td>100</td>\n",
       "      <td>150</td>\n",
       "      <td>100</td>\n",
       "    </tr>\n",
       "  </tbody>\n",
       "</table>\n",
       "</div>"
      ],
      "text/plain": [
       "          Rohit Sharma Virat Kohli Sachin Tendulkar\n",
       "Dismissal      Not Out     Not Out              Out\n",
       "Runs               100         150              100"
      ]
     },
     "execution_count": 22,
     "metadata": {},
     "output_type": "execute_result"
    }
   ],
   "source": [
    "batting_df"
   ]
  },
  {
   "cell_type": "code",
   "execution_count": 23,
   "metadata": {},
   "outputs": [
    {
     "data": {
      "text/html": [
       "<div>\n",
       "<style scoped>\n",
       "    .dataframe tbody tr th:only-of-type {\n",
       "        vertical-align: middle;\n",
       "    }\n",
       "\n",
       "    .dataframe tbody tr th {\n",
       "        vertical-align: top;\n",
       "    }\n",
       "\n",
       "    .dataframe thead th {\n",
       "        text-align: right;\n",
       "    }\n",
       "</style>\n",
       "<table border=\"1\" class=\"dataframe\">\n",
       "  <thead>\n",
       "    <tr style=\"text-align: right;\">\n",
       "      <th></th>\n",
       "      <th>Dismissal</th>\n",
       "      <th>Runs</th>\n",
       "    </tr>\n",
       "  </thead>\n",
       "  <tbody>\n",
       "    <tr>\n",
       "      <th>Rohit Sharma</th>\n",
       "      <td>Not Out</td>\n",
       "      <td>100</td>\n",
       "    </tr>\n",
       "    <tr>\n",
       "      <th>Virat Kohli</th>\n",
       "      <td>Not Out</td>\n",
       "      <td>150</td>\n",
       "    </tr>\n",
       "    <tr>\n",
       "      <th>Sachin Tendulkar</th>\n",
       "      <td>Out</td>\n",
       "      <td>100</td>\n",
       "    </tr>\n",
       "  </tbody>\n",
       "</table>\n",
       "</div>"
      ],
      "text/plain": [
       "                 Dismissal Runs\n",
       "Rohit Sharma       Not Out  100\n",
       "Virat Kohli        Not Out  150\n",
       "Sachin Tendulkar       Out  100"
      ]
     },
     "execution_count": 23,
     "metadata": {},
     "output_type": "execute_result"
    }
   ],
   "source": [
    "batting_df_final = batting_df.T\n",
    "#batting_df_final.rename(columns={'Dismissal', 'Runs'})\n",
    "batting_df_final"
   ]
  },
  {
   "cell_type": "code",
   "execution_count": 24,
   "metadata": {},
   "outputs": [
    {
     "data": {
      "text/plain": [
       "Index(['Dismissal', 'Runs'], dtype='object')"
      ]
     },
     "execution_count": 24,
     "metadata": {},
     "output_type": "execute_result"
    }
   ],
   "source": [
    "batting_df_final.columns"
   ]
  },
  {
   "cell_type": "code",
   "execution_count": 46,
   "metadata": {},
   "outputs": [],
   "source": [
    "names = ['Rohit Sharma', 'Virat Kohli', 'Sachin Tendulkar']\n",
    "# dismissal = {'dismissal' : ['Not Out', 'Not Out', 'Out']}\n",
    "# runs = {'runs' : [100, 150, 100]}\n",
    "data = {'dismissal' : ['Not Out', 'Not Out', 'Out'], 'runs' : [100, 150, 100]}"
   ]
  },
  {
   "cell_type": "code",
   "execution_count": 47,
   "metadata": {},
   "outputs": [
    {
     "data": {
      "text/html": [
       "<div>\n",
       "<style scoped>\n",
       "    .dataframe tbody tr th:only-of-type {\n",
       "        vertical-align: middle;\n",
       "    }\n",
       "\n",
       "    .dataframe tbody tr th {\n",
       "        vertical-align: top;\n",
       "    }\n",
       "\n",
       "    .dataframe thead th {\n",
       "        text-align: right;\n",
       "    }\n",
       "</style>\n",
       "<table border=\"1\" class=\"dataframe\">\n",
       "  <thead>\n",
       "    <tr style=\"text-align: right;\">\n",
       "      <th></th>\n",
       "      <th>dismissal</th>\n",
       "      <th>runs</th>\n",
       "    </tr>\n",
       "  </thead>\n",
       "  <tbody>\n",
       "    <tr>\n",
       "      <th>Rohit Sharma</th>\n",
       "      <td>Not Out</td>\n",
       "      <td>100</td>\n",
       "    </tr>\n",
       "    <tr>\n",
       "      <th>Virat Kohli</th>\n",
       "      <td>Not Out</td>\n",
       "      <td>150</td>\n",
       "    </tr>\n",
       "    <tr>\n",
       "      <th>Sachin Tendulkar</th>\n",
       "      <td>Out</td>\n",
       "      <td>100</td>\n",
       "    </tr>\n",
       "  </tbody>\n",
       "</table>\n",
       "</div>"
      ],
      "text/plain": [
       "                 dismissal  runs\n",
       "Rohit Sharma       Not Out   100\n",
       "Virat Kohli        Not Out   150\n",
       "Sachin Tendulkar       Out   100"
      ]
     },
     "execution_count": 47,
     "metadata": {},
     "output_type": "execute_result"
    }
   ],
   "source": [
    "batting_df_v2 = pd.DataFrame(data, index = names) \n",
    "batting_df_v2"
   ]
  },
  {
   "cell_type": "code",
   "execution_count": 50,
   "metadata": {},
   "outputs": [
    {
     "name": "stdout",
     "output_type": "stream",
     "text": [
      "\u001b[31mAgeGroupDetails.csv\u001b[m\u001b[m             \u001b[31mStatewiseTestingDetails.csv\u001b[m\u001b[m\r\n",
      "\u001b[31mHospitalBedsIndia.csv\u001b[m\u001b[m           \u001b[31mcovid_19_india.csv\u001b[m\u001b[m\r\n",
      "\u001b[31mICMRTestingLabs.csv\u001b[m\u001b[m             \u001b[31mpopulation_india_census2011.csv\u001b[m\u001b[m\r\n",
      "\u001b[31mIndividualDetails.csv\u001b[m\u001b[m\r\n"
     ]
    }
   ],
   "source": [
    "!ls ./Datasets/CovidIndia/"
   ]
  },
  {
   "cell_type": "code",
   "execution_count": 51,
   "metadata": {},
   "outputs": [],
   "source": [
    "covid_data = pd.read_csv('Datasets/CovidIndia/covid_19_india.csv')"
   ]
  },
  {
   "cell_type": "code",
   "execution_count": 82,
   "metadata": {},
   "outputs": [
    {
     "data": {
      "text/plain": [
       "{'Andaman and Nicobar Islands',\n",
       " 'Andhra Pradesh',\n",
       " 'Arunachal Pradesh',\n",
       " 'Assam',\n",
       " 'Bihar',\n",
       " 'Cases being reassigned to states',\n",
       " 'Chandigarh',\n",
       " 'Chhattisgarh',\n",
       " 'Dadar Nagar Haveli',\n",
       " 'Dadra and Nagar Haveli and Daman and Diu',\n",
       " 'Daman & Diu',\n",
       " 'Delhi',\n",
       " 'Goa',\n",
       " 'Gujarat',\n",
       " 'Haryana',\n",
       " 'Himachal Pradesh',\n",
       " 'Jammu and Kashmir',\n",
       " 'Jharkhand',\n",
       " 'Karnataka',\n",
       " 'Kerala',\n",
       " 'Ladakh',\n",
       " 'Madhya Pradesh',\n",
       " 'Maharashtra',\n",
       " 'Manipur',\n",
       " 'Meghalaya',\n",
       " 'Mizoram',\n",
       " 'Nagaland',\n",
       " 'Odisha',\n",
       " 'Puducherry',\n",
       " 'Punjab',\n",
       " 'Rajasthan',\n",
       " 'Sikkim',\n",
       " 'Tamil Nadu',\n",
       " 'Telangana',\n",
       " 'Telangana***',\n",
       " 'Telengana',\n",
       " 'Telengana***',\n",
       " 'Tripura',\n",
       " 'Unassigned',\n",
       " 'Uttar Pradesh',\n",
       " 'Uttarakhand',\n",
       " 'West Bengal'}"
      ]
     },
     "execution_count": 82,
     "metadata": {},
     "output_type": "execute_result"
    }
   ],
   "source": [
    "set(covid_data['State/UnionTerritory'])"
   ]
  },
  {
   "cell_type": "code",
   "execution_count": 53,
   "metadata": {},
   "outputs": [
    {
     "data": {
      "text/plain": [
       "(5861, 9)"
      ]
     },
     "execution_count": 53,
     "metadata": {},
     "output_type": "execute_result"
    }
   ],
   "source": [
    "covid_data.shape"
   ]
  },
  {
   "cell_type": "code",
   "execution_count": 54,
   "metadata": {},
   "outputs": [
    {
     "name": "stdout",
     "output_type": "stream",
     "text": [
      "<class 'pandas.core.frame.DataFrame'>\n",
      "RangeIndex: 5861 entries, 0 to 5860\n",
      "Data columns (total 9 columns):\n",
      " #   Column                    Non-Null Count  Dtype \n",
      "---  ------                    --------------  ----- \n",
      " 0   Sno                       5861 non-null   int64 \n",
      " 1   Date                      5861 non-null   object\n",
      " 2   Time                      5861 non-null   object\n",
      " 3   State/UnionTerritory      5861 non-null   object\n",
      " 4   ConfirmedIndianNational   5861 non-null   object\n",
      " 5   ConfirmedForeignNational  5861 non-null   object\n",
      " 6   Cured                     5861 non-null   int64 \n",
      " 7   Deaths                    5861 non-null   int64 \n",
      " 8   Confirmed                 5861 non-null   int64 \n",
      "dtypes: int64(4), object(5)\n",
      "memory usage: 412.2+ KB\n"
     ]
    }
   ],
   "source": [
    "covid_data.info()"
   ]
  },
  {
   "cell_type": "code",
   "execution_count": 55,
   "metadata": {},
   "outputs": [
    {
     "data": {
      "text/html": [
       "<div>\n",
       "<style scoped>\n",
       "    .dataframe tbody tr th:only-of-type {\n",
       "        vertical-align: middle;\n",
       "    }\n",
       "\n",
       "    .dataframe tbody tr th {\n",
       "        vertical-align: top;\n",
       "    }\n",
       "\n",
       "    .dataframe thead th {\n",
       "        text-align: right;\n",
       "    }\n",
       "</style>\n",
       "<table border=\"1\" class=\"dataframe\">\n",
       "  <thead>\n",
       "    <tr style=\"text-align: right;\">\n",
       "      <th></th>\n",
       "      <th>Sno</th>\n",
       "      <th>Cured</th>\n",
       "      <th>Deaths</th>\n",
       "      <th>Confirmed</th>\n",
       "    </tr>\n",
       "  </thead>\n",
       "  <tbody>\n",
       "    <tr>\n",
       "      <th>count</th>\n",
       "      <td>5861.000000</td>\n",
       "      <td>5861.000000</td>\n",
       "      <td>5861.000000</td>\n",
       "      <td>5861.000000</td>\n",
       "    </tr>\n",
       "    <tr>\n",
       "      <th>mean</th>\n",
       "      <td>2931.000000</td>\n",
       "      <td>15557.303020</td>\n",
       "      <td>495.068418</td>\n",
       "      <td>22840.067395</td>\n",
       "    </tr>\n",
       "    <tr>\n",
       "      <th>std</th>\n",
       "      <td>1692.069295</td>\n",
       "      <td>48801.548859</td>\n",
       "      <td>1902.215575</td>\n",
       "      <td>68013.757958</td>\n",
       "    </tr>\n",
       "    <tr>\n",
       "      <th>min</th>\n",
       "      <td>1.000000</td>\n",
       "      <td>0.000000</td>\n",
       "      <td>0.000000</td>\n",
       "      <td>0.000000</td>\n",
       "    </tr>\n",
       "    <tr>\n",
       "      <th>25%</th>\n",
       "      <td>1466.000000</td>\n",
       "      <td>18.000000</td>\n",
       "      <td>0.000000</td>\n",
       "      <td>70.000000</td>\n",
       "    </tr>\n",
       "    <tr>\n",
       "      <th>50%</th>\n",
       "      <td>2931.000000</td>\n",
       "      <td>559.000000</td>\n",
       "      <td>9.000000</td>\n",
       "      <td>1403.000000</td>\n",
       "    </tr>\n",
       "    <tr>\n",
       "      <th>75%</th>\n",
       "      <td>4396.000000</td>\n",
       "      <td>6414.000000</td>\n",
       "      <td>175.000000</td>\n",
       "      <td>11088.000000</td>\n",
       "    </tr>\n",
       "    <tr>\n",
       "      <th>max</th>\n",
       "      <td>5861.000000</td>\n",
       "      <td>584537.000000</td>\n",
       "      <td>24903.000000</td>\n",
       "      <td>808306.000000</td>\n",
       "    </tr>\n",
       "  </tbody>\n",
       "</table>\n",
       "</div>"
      ],
      "text/plain": [
       "               Sno          Cured        Deaths      Confirmed\n",
       "count  5861.000000    5861.000000   5861.000000    5861.000000\n",
       "mean   2931.000000   15557.303020    495.068418   22840.067395\n",
       "std    1692.069295   48801.548859   1902.215575   68013.757958\n",
       "min       1.000000       0.000000      0.000000       0.000000\n",
       "25%    1466.000000      18.000000      0.000000      70.000000\n",
       "50%    2931.000000     559.000000      9.000000    1403.000000\n",
       "75%    4396.000000    6414.000000    175.000000   11088.000000\n",
       "max    5861.000000  584537.000000  24903.000000  808306.000000"
      ]
     },
     "execution_count": 55,
     "metadata": {},
     "output_type": "execute_result"
    }
   ],
   "source": [
    "covid_data.describe()"
   ]
  },
  {
   "cell_type": "code",
   "execution_count": 56,
   "metadata": {},
   "outputs": [
    {
     "data": {
      "text/plain": [
       "Index(['Sno', 'Date', 'Time', 'State/UnionTerritory',\n",
       "       'ConfirmedIndianNational', 'ConfirmedForeignNational', 'Cured',\n",
       "       'Deaths', 'Confirmed'],\n",
       "      dtype='object')"
      ]
     },
     "execution_count": 56,
     "metadata": {},
     "output_type": "execute_result"
    }
   ],
   "source": [
    "covid_data.columns"
   ]
  },
  {
   "cell_type": "code",
   "execution_count": 77,
   "metadata": {},
   "outputs": [
    {
     "data": {
      "text/html": [
       "<div>\n",
       "<style scoped>\n",
       "    .dataframe tbody tr th:only-of-type {\n",
       "        vertical-align: middle;\n",
       "    }\n",
       "\n",
       "    .dataframe tbody tr th {\n",
       "        vertical-align: top;\n",
       "    }\n",
       "\n",
       "    .dataframe thead th {\n",
       "        text-align: right;\n",
       "    }\n",
       "</style>\n",
       "<table border=\"1\" class=\"dataframe\">\n",
       "  <thead>\n",
       "    <tr style=\"text-align: right;\">\n",
       "      <th></th>\n",
       "      <th>index</th>\n",
       "      <th>Sno</th>\n",
       "      <th>Date</th>\n",
       "      <th>Time</th>\n",
       "      <th>State/UnionTerritory</th>\n",
       "      <th>ConfirmedIndianNational</th>\n",
       "      <th>ConfirmedForeignNational</th>\n",
       "      <th>Cured</th>\n",
       "      <th>Deaths</th>\n",
       "      <th>Confirmed</th>\n",
       "      <th>Active</th>\n",
       "    </tr>\n",
       "  </thead>\n",
       "  <tbody>\n",
       "    <tr>\n",
       "      <th>0</th>\n",
       "      <td>34</td>\n",
       "      <td>35</td>\n",
       "      <td>02/03/20</td>\n",
       "      <td>6:00 PM</td>\n",
       "      <td>Delhi</td>\n",
       "      <td>1</td>\n",
       "      <td>0</td>\n",
       "      <td>0</td>\n",
       "      <td>0</td>\n",
       "      <td>1</td>\n",
       "      <td>1</td>\n",
       "    </tr>\n",
       "    <tr>\n",
       "      <th>1</th>\n",
       "      <td>38</td>\n",
       "      <td>39</td>\n",
       "      <td>03/03/20</td>\n",
       "      <td>6:00 PM</td>\n",
       "      <td>Delhi</td>\n",
       "      <td>1</td>\n",
       "      <td>0</td>\n",
       "      <td>0</td>\n",
       "      <td>0</td>\n",
       "      <td>1</td>\n",
       "      <td>1</td>\n",
       "    </tr>\n",
       "    <tr>\n",
       "      <th>2</th>\n",
       "      <td>42</td>\n",
       "      <td>43</td>\n",
       "      <td>04/03/20</td>\n",
       "      <td>6:00 PM</td>\n",
       "      <td>Delhi</td>\n",
       "      <td>1</td>\n",
       "      <td>0</td>\n",
       "      <td>0</td>\n",
       "      <td>0</td>\n",
       "      <td>1</td>\n",
       "      <td>1</td>\n",
       "    </tr>\n",
       "    <tr>\n",
       "      <th>3</th>\n",
       "      <td>45</td>\n",
       "      <td>46</td>\n",
       "      <td>05/03/20</td>\n",
       "      <td>6:00 PM</td>\n",
       "      <td>Delhi</td>\n",
       "      <td>2</td>\n",
       "      <td>0</td>\n",
       "      <td>0</td>\n",
       "      <td>0</td>\n",
       "      <td>2</td>\n",
       "      <td>2</td>\n",
       "    </tr>\n",
       "    <tr>\n",
       "      <th>4</th>\n",
       "      <td>51</td>\n",
       "      <td>52</td>\n",
       "      <td>06/03/20</td>\n",
       "      <td>6:00 PM</td>\n",
       "      <td>Delhi</td>\n",
       "      <td>3</td>\n",
       "      <td>0</td>\n",
       "      <td>0</td>\n",
       "      <td>0</td>\n",
       "      <td>3</td>\n",
       "      <td>3</td>\n",
       "    </tr>\n",
       "    <tr>\n",
       "      <th>...</th>\n",
       "      <td>...</td>\n",
       "      <td>...</td>\n",
       "      <td>...</td>\n",
       "      <td>...</td>\n",
       "      <td>...</td>\n",
       "      <td>...</td>\n",
       "      <td>...</td>\n",
       "      <td>...</td>\n",
       "      <td>...</td>\n",
       "      <td>...</td>\n",
       "      <td>...</td>\n",
       "    </tr>\n",
       "    <tr>\n",
       "      <th>180</th>\n",
       "      <td>5694</td>\n",
       "      <td>5695</td>\n",
       "      <td>29/08/20</td>\n",
       "      <td>8:00 AM</td>\n",
       "      <td>Delhi</td>\n",
       "      <td>-</td>\n",
       "      <td>-</td>\n",
       "      <td>151473</td>\n",
       "      <td>4389</td>\n",
       "      <td>169412</td>\n",
       "      <td>13550</td>\n",
       "    </tr>\n",
       "    <tr>\n",
       "      <th>181</th>\n",
       "      <td>5729</td>\n",
       "      <td>5730</td>\n",
       "      <td>30/08/20</td>\n",
       "      <td>8:00 AM</td>\n",
       "      <td>Delhi</td>\n",
       "      <td>-</td>\n",
       "      <td>-</td>\n",
       "      <td>152922</td>\n",
       "      <td>4404</td>\n",
       "      <td>171366</td>\n",
       "      <td>14040</td>\n",
       "    </tr>\n",
       "    <tr>\n",
       "      <th>182</th>\n",
       "      <td>5764</td>\n",
       "      <td>5765</td>\n",
       "      <td>31/08/20</td>\n",
       "      <td>8:00 AM</td>\n",
       "      <td>Delhi</td>\n",
       "      <td>-</td>\n",
       "      <td>-</td>\n",
       "      <td>154171</td>\n",
       "      <td>4426</td>\n",
       "      <td>173390</td>\n",
       "      <td>14793</td>\n",
       "    </tr>\n",
       "    <tr>\n",
       "      <th>183</th>\n",
       "      <td>5799</td>\n",
       "      <td>5800</td>\n",
       "      <td>01/09/20</td>\n",
       "      <td>8:00 AM</td>\n",
       "      <td>Delhi</td>\n",
       "      <td>-</td>\n",
       "      <td>-</td>\n",
       "      <td>155678</td>\n",
       "      <td>4444</td>\n",
       "      <td>174748</td>\n",
       "      <td>14626</td>\n",
       "    </tr>\n",
       "    <tr>\n",
       "      <th>184</th>\n",
       "      <td>5834</td>\n",
       "      <td>5835</td>\n",
       "      <td>02/09/20</td>\n",
       "      <td>8:00 AM</td>\n",
       "      <td>Delhi</td>\n",
       "      <td>-</td>\n",
       "      <td>-</td>\n",
       "      <td>156728</td>\n",
       "      <td>4462</td>\n",
       "      <td>177060</td>\n",
       "      <td>15870</td>\n",
       "    </tr>\n",
       "  </tbody>\n",
       "</table>\n",
       "<p>185 rows × 11 columns</p>\n",
       "</div>"
      ],
      "text/plain": [
       "     index   Sno      Date     Time State/UnionTerritory  \\\n",
       "0       34    35  02/03/20  6:00 PM                Delhi   \n",
       "1       38    39  03/03/20  6:00 PM                Delhi   \n",
       "2       42    43  04/03/20  6:00 PM                Delhi   \n",
       "3       45    46  05/03/20  6:00 PM                Delhi   \n",
       "4       51    52  06/03/20  6:00 PM                Delhi   \n",
       "..     ...   ...       ...      ...                  ...   \n",
       "180   5694  5695  29/08/20  8:00 AM                Delhi   \n",
       "181   5729  5730  30/08/20  8:00 AM                Delhi   \n",
       "182   5764  5765  31/08/20  8:00 AM                Delhi   \n",
       "183   5799  5800  01/09/20  8:00 AM                Delhi   \n",
       "184   5834  5835  02/09/20  8:00 AM                Delhi   \n",
       "\n",
       "    ConfirmedIndianNational ConfirmedForeignNational   Cured  Deaths  \\\n",
       "0                         1                        0       0       0   \n",
       "1                         1                        0       0       0   \n",
       "2                         1                        0       0       0   \n",
       "3                         2                        0       0       0   \n",
       "4                         3                        0       0       0   \n",
       "..                      ...                      ...     ...     ...   \n",
       "180                       -                        -  151473    4389   \n",
       "181                       -                        -  152922    4404   \n",
       "182                       -                        -  154171    4426   \n",
       "183                       -                        -  155678    4444   \n",
       "184                       -                        -  156728    4462   \n",
       "\n",
       "     Confirmed  Active  \n",
       "0            1       1  \n",
       "1            1       1  \n",
       "2            1       1  \n",
       "3            2       2  \n",
       "4            3       3  \n",
       "..         ...     ...  \n",
       "180     169412   13550  \n",
       "181     171366   14040  \n",
       "182     173390   14793  \n",
       "183     174748   14626  \n",
       "184     177060   15870  \n",
       "\n",
       "[185 rows x 11 columns]"
      ]
     },
     "execution_count": 77,
     "metadata": {},
     "output_type": "execute_result"
    }
   ],
   "source": [
    "covid_Delhi = covid_data[covid_data['State/UnionTerritory'] == 'Delhi'].reset_index()\n",
    "covid_Delhi['Active'] = covid_Delhi[\"Confirmed\"] - covid_Delhi[\"Cured\"] - covid_Delhi[\"Deaths\"]\n",
    "covid_Delhi"
   ]
  },
  {
   "cell_type": "code",
   "execution_count": 79,
   "metadata": {},
   "outputs": [
    {
     "data": {
      "text/plain": [
       "<matplotlib.axes._subplots.AxesSubplot at 0x118023640>"
      ]
     },
     "execution_count": 79,
     "metadata": {},
     "output_type": "execute_result"
    },
    {
     "data": {
      "image/png": "[encoded data removed]",
      "text/plain": [
       "<Figure size 432x288 with 2 Axes>"
      ]
     },
     "metadata": {
      "needs_background": "light"
     },
     "output_type": "display_data"
    }
   ],
   "source": [
    "import matplotlib.pyplot as plt\n",
    "fig, axes = plt.subplots(1, 2)\n",
    "\n",
    "covid_Delhi.plot(x = \"Date\", y=[\"Cured\", \"Confirmed\", \"Active\", \"Deaths\"], ax = axes[0])\n",
    "\n",
    "\n",
    "covid_Delhi.plot(x = \"Date\", y=\"Deaths\", ax = axes[1], color='r')"
   ]
  },
  {
   "cell_type": "code",
   "execution_count": 83,
   "metadata": {},
   "outputs": [
    {
     "data": {
      "text/html": [
       "<div>\n",
       "<style scoped>\n",
       "    .dataframe tbody tr th:only-of-type {\n",
       "        vertical-align: middle;\n",
       "    }\n",
       "\n",
       "    .dataframe tbody tr th {\n",
       "        vertical-align: top;\n",
       "    }\n",
       "\n",
       "    .dataframe thead th {\n",
       "        text-align: right;\n",
       "    }\n",
       "</style>\n",
       "<table border=\"1\" class=\"dataframe\">\n",
       "  <thead>\n",
       "    <tr style=\"text-align: right;\">\n",
       "      <th></th>\n",
       "      <th>index</th>\n",
       "      <th>Sno</th>\n",
       "      <th>Date</th>\n",
       "      <th>Time</th>\n",
       "      <th>State/UnionTerritory</th>\n",
       "      <th>ConfirmedIndianNational</th>\n",
       "      <th>ConfirmedForeignNational</th>\n",
       "      <th>Cured</th>\n",
       "      <th>Deaths</th>\n",
       "      <th>Confirmed</th>\n",
       "      <th>Active</th>\n",
       "    </tr>\n",
       "  </thead>\n",
       "  <tbody>\n",
       "    <tr>\n",
       "      <th>0</th>\n",
       "      <td>76</td>\n",
       "      <td>77</td>\n",
       "      <td>09/03/20</td>\n",
       "      <td>6:00 PM</td>\n",
       "      <td>Maharashtra</td>\n",
       "      <td>2</td>\n",
       "      <td>0</td>\n",
       "      <td>0</td>\n",
       "      <td>0</td>\n",
       "      <td>2</td>\n",
       "      <td>2</td>\n",
       "    </tr>\n",
       "    <tr>\n",
       "      <th>1</th>\n",
       "      <td>91</td>\n",
       "      <td>92</td>\n",
       "      <td>10/03/20</td>\n",
       "      <td>6:00 PM</td>\n",
       "      <td>Maharashtra</td>\n",
       "      <td>5</td>\n",
       "      <td>0</td>\n",
       "      <td>0</td>\n",
       "      <td>0</td>\n",
       "      <td>5</td>\n",
       "      <td>5</td>\n",
       "    </tr>\n",
       "    <tr>\n",
       "      <th>2</th>\n",
       "      <td>97</td>\n",
       "      <td>98</td>\n",
       "      <td>11/03/20</td>\n",
       "      <td>6:00 PM</td>\n",
       "      <td>Maharashtra</td>\n",
       "      <td>2</td>\n",
       "      <td>0</td>\n",
       "      <td>0</td>\n",
       "      <td>0</td>\n",
       "      <td>2</td>\n",
       "      <td>2</td>\n",
       "    </tr>\n",
       "    <tr>\n",
       "      <th>3</th>\n",
       "      <td>120</td>\n",
       "      <td>121</td>\n",
       "      <td>12/03/20</td>\n",
       "      <td>6:00 PM</td>\n",
       "      <td>Maharashtra</td>\n",
       "      <td>11</td>\n",
       "      <td>0</td>\n",
       "      <td>0</td>\n",
       "      <td>0</td>\n",
       "      <td>11</td>\n",
       "      <td>11</td>\n",
       "    </tr>\n",
       "    <tr>\n",
       "      <th>4</th>\n",
       "      <td>133</td>\n",
       "      <td>134</td>\n",
       "      <td>13/03/20</td>\n",
       "      <td>6:00 PM</td>\n",
       "      <td>Maharashtra</td>\n",
       "      <td>14</td>\n",
       "      <td>0</td>\n",
       "      <td>0</td>\n",
       "      <td>0</td>\n",
       "      <td>14</td>\n",
       "      <td>14</td>\n",
       "    </tr>\n",
       "    <tr>\n",
       "      <th>...</th>\n",
       "      <td>...</td>\n",
       "      <td>...</td>\n",
       "      <td>...</td>\n",
       "      <td>...</td>\n",
       "      <td>...</td>\n",
       "      <td>...</td>\n",
       "      <td>...</td>\n",
       "      <td>...</td>\n",
       "      <td>...</td>\n",
       "      <td>...</td>\n",
       "      <td>...</td>\n",
       "    </tr>\n",
       "    <tr>\n",
       "      <th>173</th>\n",
       "      <td>5705</td>\n",
       "      <td>5706</td>\n",
       "      <td>29/08/20</td>\n",
       "      <td>8:00 AM</td>\n",
       "      <td>Maharashtra</td>\n",
       "      <td>-</td>\n",
       "      <td>-</td>\n",
       "      <td>543170</td>\n",
       "      <td>23775</td>\n",
       "      <td>747995</td>\n",
       "      <td>181050</td>\n",
       "    </tr>\n",
       "    <tr>\n",
       "      <th>174</th>\n",
       "      <td>5740</td>\n",
       "      <td>5741</td>\n",
       "      <td>30/08/20</td>\n",
       "      <td>8:00 AM</td>\n",
       "      <td>Maharashtra</td>\n",
       "      <td>-</td>\n",
       "      <td>-</td>\n",
       "      <td>554711</td>\n",
       "      <td>24103</td>\n",
       "      <td>764281</td>\n",
       "      <td>185467</td>\n",
       "    </tr>\n",
       "    <tr>\n",
       "      <th>175</th>\n",
       "      <td>5775</td>\n",
       "      <td>5776</td>\n",
       "      <td>31/08/20</td>\n",
       "      <td>8:00 AM</td>\n",
       "      <td>Maharashtra</td>\n",
       "      <td>-</td>\n",
       "      <td>-</td>\n",
       "      <td>562401</td>\n",
       "      <td>24399</td>\n",
       "      <td>780689</td>\n",
       "      <td>193889</td>\n",
       "    </tr>\n",
       "    <tr>\n",
       "      <th>176</th>\n",
       "      <td>5810</td>\n",
       "      <td>5811</td>\n",
       "      <td>01/09/20</td>\n",
       "      <td>8:00 AM</td>\n",
       "      <td>Maharashtra</td>\n",
       "      <td>-</td>\n",
       "      <td>-</td>\n",
       "      <td>573559</td>\n",
       "      <td>24583</td>\n",
       "      <td>792541</td>\n",
       "      <td>194399</td>\n",
       "    </tr>\n",
       "    <tr>\n",
       "      <th>177</th>\n",
       "      <td>5845</td>\n",
       "      <td>5846</td>\n",
       "      <td>02/09/20</td>\n",
       "      <td>8:00 AM</td>\n",
       "      <td>Maharashtra</td>\n",
       "      <td>-</td>\n",
       "      <td>-</td>\n",
       "      <td>584537</td>\n",
       "      <td>24903</td>\n",
       "      <td>808306</td>\n",
       "      <td>198866</td>\n",
       "    </tr>\n",
       "  </tbody>\n",
       "</table>\n",
       "<p>178 rows × 11 columns</p>\n",
       "</div>"
      ],
      "text/plain": [
       "     index   Sno      Date     Time State/UnionTerritory  \\\n",
       "0       76    77  09/03/20  6:00 PM          Maharashtra   \n",
       "1       91    92  10/03/20  6:00 PM          Maharashtra   \n",
       "2       97    98  11/03/20  6:00 PM          Maharashtra   \n",
       "3      120   121  12/03/20  6:00 PM          Maharashtra   \n",
       "4      133   134  13/03/20  6:00 PM          Maharashtra   \n",
       "..     ...   ...       ...      ...                  ...   \n",
       "173   5705  5706  29/08/20  8:00 AM          Maharashtra   \n",
       "174   5740  5741  30/08/20  8:00 AM          Maharashtra   \n",
       "175   5775  5776  31/08/20  8:00 AM          Maharashtra   \n",
       "176   5810  5811  01/09/20  8:00 AM          Maharashtra   \n",
       "177   5845  5846  02/09/20  8:00 AM          Maharashtra   \n",
       "\n",
       "    ConfirmedIndianNational ConfirmedForeignNational   Cured  Deaths  \\\n",
       "0                         2                        0       0       0   \n",
       "1                         5                        0       0       0   \n",
       "2                         2                        0       0       0   \n",
       "3                        11                        0       0       0   \n",
       "4                        14                        0       0       0   \n",
       "..                      ...                      ...     ...     ...   \n",
       "173                       -                        -  543170   23775   \n",
       "174                       -                        -  554711   24103   \n",
       "175                       -                        -  562401   24399   \n",
       "176                       -                        -  573559   24583   \n",
       "177                       -                        -  584537   24903   \n",
       "\n",
       "     Confirmed  Active  \n",
       "0            2       2  \n",
       "1            5       5  \n",
       "2            2       2  \n",
       "3           11      11  \n",
       "4           14      14  \n",
       "..         ...     ...  \n",
       "173     747995  181050  \n",
       "174     764281  185467  \n",
       "175     780689  193889  \n",
       "176     792541  194399  \n",
       "177     808306  198866  \n",
       "\n",
       "[178 rows x 11 columns]"
      ]
     },
     "execution_count": 83,
     "metadata": {},
     "output_type": "execute_result"
    }
   ],
   "source": [
    "covid_Maha = covid_data[covid_data['State/UnionTerritory'] == 'Maharashtra'].reset_index()\n",
    "covid_Maha['Active'] = covid_Maha[\"Confirmed\"] - covid_Maha[\"Cured\"] - covid_Maha[\"Deaths\"]\n",
    "covid_Maha"
   ]
  },
  {
   "cell_type": "code",
   "execution_count": 85,
   "metadata": {},
   "outputs": [
    {
     "data": {
      "text/plain": [
       "<matplotlib.axes._subplots.AxesSubplot at 0x1188187c0>"
      ]
     },
     "execution_count": 85,
     "metadata": {},
     "output_type": "execute_result"
    },
    {
     "data": {
      "image/png": "[encoded data removed]",
      "text/plain": [
       "<Figure size 432x288 with 2 Axes>"
      ]
     },
     "metadata": {
      "needs_background": "light"
     },
     "output_type": "display_data"
    }
   ],
   "source": [
    "import matplotlib.pyplot as plt\n",
    "fig, axes = plt.subplots(1, 2)\n",
    "\n",
    "covid_Maha.plot(x = \"Date\", y=[\"Cured\", \"Confirmed\", \"Active\", \"Deaths\"], ax = axes[0])\n",
    "\n",
    "\n",
    "covid_Maha.plot(x = \"Date\", y=\"Deaths\", ax = axes[1], color='r')"
   ]
  },
  {
   "cell_type": "code",
   "execution_count": 102,
   "metadata": {},
   "outputs": [
    {
     "data": {
      "text/plain": [
       "<matplotlib.axes._subplots.AxesSubplot at 0x119d9b1f0>"
      ]
     },
     "execution_count": 102,
     "metadata": {},
     "output_type": "execute_result"
    },
    {
     "data": {
      "image/png": "[encoded data removed]",
      "text/plain": [
       "<Figure size 720x720 with 1 Axes>"
      ]
     },
     "metadata": {
      "needs_background": "light"
     },
     "output_type": "display_data"
    }
   ],
   "source": [
    "import matplotlib.pyplot as plt\n",
    "#plt.figure(figsize = (15,15))\n",
    "fig, axes = plt.subplots(1, figsize=(10,10))\n",
    "covid_Delhi.plot(x = \"Date\", y=\"Deaths\", ax = axes, color='b', label = 'Delhi')\n",
    "covid_Maha.plot(x = \"Date\", y=\"Deaths\", ax = axes, color='r', label = 'Maha')\n"
   ]
  },
  {
   "cell_type": "code",
   "execution_count": 105,
   "metadata": {},
   "outputs": [
    {
     "data": {
      "text/plain": [
       "<matplotlib.axes._subplots.AxesSubplot at 0x1196675b0>"
      ]
     },
     "execution_count": 105,
     "metadata": {},
     "output_type": "execute_result"
    },
    {
     "data": {
      "image/png": "[encoded data removed]",
      "text/plain": [
       "<Figure size 720x720 with 1 Axes>"
      ]
     },
     "metadata": {
      "needs_background": "light"
     },
     "output_type": "display_data"
    }
   ],
   "source": [
    "import matplotlib.pyplot as plt\n",
    "#plt.figure(figsize = (15,15))\n",
    "fig, axes = plt.subplots(1, figsize=(10,10))\n",
    "covid_Delhi.plot(x = \"Date\", y=\"Confirmed\", ax = axes, color='b', label = 'Delhi')\n",
    "covid_Maha.plot(x = \"Date\", y=\"Confirmed\", ax = axes, color='r', label = 'Maha')"
   ]
  },
  {
   "cell_type": "code",
   "execution_count": null,
   "metadata": {},
   "outputs": [],
   "source": []
  }
 ],
 "metadata": {
  "kernelspec": {
   "display_name": "Python 3",
   "language": "python",
   "name": "python3"
  },
  "language_info": {
   "codemirror_mode": {
    "name": "ipython",
    "version": 3
   },
   "file_extension": ".py",
   "mimetype": "text/x-python",
   "name": "python",
   "nbconvert_exporter": "python",
   "pygments_lexer": "ipython3",
   "version": "3.8.3"
  }
 },
 "nbformat": 4,
 "nbformat_minor": 4
}
